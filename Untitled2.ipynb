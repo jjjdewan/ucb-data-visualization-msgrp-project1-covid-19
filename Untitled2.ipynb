{
 "cells": [
  {
   "cell_type": "code",
   "execution_count": null,
   "metadata": {},
   "outputs": [],
   "source": [
    "# Plot Compare: By country \n",
    "#  total number of COVID-19 cases, deaths and population\n",
    "#\n",
    "# get the data for plotting \n",
    "# get the data for plotting the top 20\n",
    "\n",
    "top_20_covid_data_to_plot_df = covid_data_clean_df_analysis[:20][['location','total_cases',\n",
    "                                                   'total_deaths','population', \n",
    "                                                    'population_density']].reset_index()\n",
    "\n",
    "# get total # for each country\n",
    "#\n",
    "total_cases_value = top_20_covid_data_to_plot_df.total_cases\n",
    "total_death_value = top_20_covid_data_to_plot_df.total_deaths\n",
    "total_population_value = top_20_covid_data_to_plot_df.population\n",
    "total_population_density_value = top_20_covid_data_to_plot_df.population_density\n",
    "\n",
    "\n",
    "# Get country value\n",
    "#\n",
    "countries = top_20_covid_data_to_plot_df['location'].values\n",
    "\n",
    "x = np.arange(len(countries))\n",
    "w = 0.25\n",
    "\n",
    "# Plot attributes\n",
    "#\n",
    "plt.figure(figsize=(12,9))\n",
    "\n",
    "rects1 = plt.bar(x-w, total_cases_value, width=w, label='Total Cases')\n",
    "rects2 = plt.bar(x, total_death_value*10, width=w, label='Total Deaths')\n",
    "#rects3 = plt.bar(x+w, total_population_value, width=w, label='population')\n",
    "rects4 = plt.bar(x+w, total_population_density_value*5000, width=w, label='population_density')\n",
    "\n",
    "# plt.plot(x, df['Target'].values, lw=2, label='Target')\n",
    "\n",
    "plt.xticks(x, countries, rotation=90)\n",
    "\n",
    "#plt.ylim([0,1000000])\n",
    "\n",
    "\n",
    "plt.xlabel('Countries with COVID-19 Total Cases, Total Death and Population Density')\n",
    "plt.ylabel('Total Cases, Death and Population Density(x5000)')\n",
    "\n",
    "plt.legend(loc=\"best\")\n",
    "\n",
    "#fig.tight_layout()\n",
    "\n",
    "plt.show()\n",
    "\n",
    "# Save it\n",
    "plt.savefig(\"To_20_Countries-COVID-19-compare.png\")\n",
    "\n",
    "\n"
   ]
  },
  {
   "cell_type": "code",
   "execution_count": null,
   "metadata": {},
   "outputs": [],
   "source": [
    "top_20_covid_data_to_plot_df.head(20)\n"
   ]
  }
 ],
 "metadata": {
  "kernelspec": {
   "display_name": "jdewan-proj",
   "language": "python",
   "name": "jdewan"
  },
  "language_info": {
   "codemirror_mode": {
    "name": "ipython",
    "version": 3
   },
   "file_extension": ".py",
   "mimetype": "text/x-python",
   "name": "python",
   "nbconvert_exporter": "python",
   "pygments_lexer": "ipython3",
   "version": "3.7.6"
  }
 },
 "nbformat": 4,
 "nbformat_minor": 4
}
